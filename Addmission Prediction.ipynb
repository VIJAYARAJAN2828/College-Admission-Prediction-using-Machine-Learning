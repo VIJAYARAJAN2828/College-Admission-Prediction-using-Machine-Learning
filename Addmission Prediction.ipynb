{
 "cells": [
  {
   "cell_type": "code",
   "execution_count": 1,
   "id": "2a1b9085-2b56-4f0e-943b-5437f4d4f4bb",
   "metadata": {},
   "outputs": [],
   "source": [
    "import pandas as pd \n",
    "import numpy as np\n",
    "import matplotlib.pyplot as plt\n",
    "import seaborn as sns\n",
    "import plotly.express as px\n",
    "plt.rcParams['figure.figsize'] = [15,8]\n",
    "pd.set_option('display.max_columns',None)\n",
    "import warnings\n",
    "warnings.filterwarnings('ignore')\n",
    "from scipy import stats\n",
    "# to perform Z-test\n",
    "import statsmodels.stats.weightstats as stests\n",
    "import statsmodels.stats.multicomp as mc\n",
    "from sklearn.preprocessing import StandardScaler\n",
    "# fit transform will accept only df : df1[['total_bill']] \n",
    "from sklearn.preprocessing import PowerTransformer\n",
    "# machine learning\n",
    "import statsmodels.formula.api as sfa\n",
    "import statsmodels.api as sma\n",
    "from sklearn.model_selection import train_test_split\n",
    "from sklearn.metrics import r2_score,mean_squared_error\n",
    "from statsmodels.stats.outliers_influence import variance_inflation_factor\n",
    "from sklearn.linear_model import LinearRegression,Ridge,Lasso,ElasticNet,SGDRegressor\n",
    "from sklearn.model_selection import train_test_split, GridSearchCV, KFold\n",
    "# classification\n",
    "from sklearn.metrics import accuracy_score,recall_score,precision_score,confusion_matrix,classification_report,log_loss,roc_curve,roc_auc_score,cohen_kappa_score"
   ]
  },
  {
   "cell_type": "code",
   "execution_count": 2,
   "id": "fbc9f861-84e9-44c7-8fa5-1d432fc7f17a",
   "metadata": {},
   "outputs": [
    {
     "data": {
      "text/html": [
       "<div>\n",
       "<style scoped>\n",
       "    .dataframe tbody tr th:only-of-type {\n",
       "        vertical-align: middle;\n",
       "    }\n",
       "\n",
       "    .dataframe tbody tr th {\n",
       "        vertical-align: top;\n",
       "    }\n",
       "\n",
       "    .dataframe thead th {\n",
       "        text-align: right;\n",
       "    }\n",
       "</style>\n",
       "<table border=\"1\" class=\"dataframe\">\n",
       "  <thead>\n",
       "    <tr style=\"text-align: right;\">\n",
       "      <th></th>\n",
       "      <th>Serial No.</th>\n",
       "      <th>GRE Score</th>\n",
       "      <th>TOEFL Score</th>\n",
       "      <th>University Rating</th>\n",
       "      <th>SOP</th>\n",
       "      <th>LOR</th>\n",
       "      <th>CGPA</th>\n",
       "      <th>Research</th>\n",
       "      <th>Chance of Admit</th>\n",
       "    </tr>\n",
       "  </thead>\n",
       "  <tbody>\n",
       "    <tr>\n",
       "      <th>0</th>\n",
       "      <td>1</td>\n",
       "      <td>337</td>\n",
       "      <td>118</td>\n",
       "      <td>4</td>\n",
       "      <td>4.5</td>\n",
       "      <td>4.5</td>\n",
       "      <td>9.65</td>\n",
       "      <td>1</td>\n",
       "      <td>1</td>\n",
       "    </tr>\n",
       "    <tr>\n",
       "      <th>1</th>\n",
       "      <td>2</td>\n",
       "      <td>324</td>\n",
       "      <td>107</td>\n",
       "      <td>4</td>\n",
       "      <td>4.0</td>\n",
       "      <td>4.5</td>\n",
       "      <td>8.87</td>\n",
       "      <td>1</td>\n",
       "      <td>1</td>\n",
       "    </tr>\n",
       "  </tbody>\n",
       "</table>\n",
       "</div>"
      ],
      "text/plain": [
       "   Serial No.  GRE Score  TOEFL Score  University Rating  SOP  LOR  CGPA  \\\n",
       "0           1        337          118                  4  4.5  4.5  9.65   \n",
       "1           2        324          107                  4  4.0  4.5  8.87   \n",
       "\n",
       "   Research  Chance of Admit  \n",
       "0         1                1  \n",
       "1         1                1  "
      ]
     },
     "execution_count": 2,
     "metadata": {},
     "output_type": "execute_result"
    }
   ],
   "source": [
    "df=pd.read_csv(\"Admission_predict.csv\")\n",
    "df.head(2)"
   ]
  },
  {
   "cell_type": "code",
   "execution_count": 3,
   "id": "0a5cab4a-0a46-4ed4-8f51-54b391d617a1",
   "metadata": {},
   "outputs": [
    {
     "data": {
      "text/plain": [
       "Index(['Serial No.', 'GRE Score', 'TOEFL Score', 'University Rating', 'SOP',\n",
       "       'LOR', 'CGPA', 'Research', 'Chance of Admit'],\n",
       "      dtype='object')"
      ]
     },
     "execution_count": 3,
     "metadata": {},
     "output_type": "execute_result"
    }
   ],
   "source": [
    "df.columns"
   ]
  },
  {
   "cell_type": "code",
   "execution_count": null,
   "id": "0f41d018-0deb-4bf5-8e2e-a762c05dde73",
   "metadata": {},
   "outputs": [],
   "source": []
  },
  {
   "cell_type": "code",
   "execution_count": 7,
   "id": "4398a36d-b1e2-4436-ba84-1e27e1c37793",
   "metadata": {},
   "outputs": [],
   "source": [
    "df=df.drop('Serial No.',axis=1)"
   ]
  },
  {
   "cell_type": "code",
   "execution_count": 8,
   "id": "75969e17-3feb-4ab1-9ca4-367aaaa6d0fc",
   "metadata": {},
   "outputs": [
    {
     "data": {
      "text/html": [
       "<div>\n",
       "<style scoped>\n",
       "    .dataframe tbody tr th:only-of-type {\n",
       "        vertical-align: middle;\n",
       "    }\n",
       "\n",
       "    .dataframe tbody tr th {\n",
       "        vertical-align: top;\n",
       "    }\n",
       "\n",
       "    .dataframe thead th {\n",
       "        text-align: right;\n",
       "    }\n",
       "</style>\n",
       "<table border=\"1\" class=\"dataframe\">\n",
       "  <thead>\n",
       "    <tr style=\"text-align: right;\">\n",
       "      <th></th>\n",
       "      <th>GRE Score</th>\n",
       "      <th>TOEFL Score</th>\n",
       "      <th>University Rating</th>\n",
       "      <th>SOP</th>\n",
       "      <th>LOR</th>\n",
       "      <th>CGPA</th>\n",
       "      <th>Research</th>\n",
       "      <th>Chance of Admit</th>\n",
       "    </tr>\n",
       "  </thead>\n",
       "  <tbody>\n",
       "    <tr>\n",
       "      <th>0</th>\n",
       "      <td>337</td>\n",
       "      <td>118</td>\n",
       "      <td>4</td>\n",
       "      <td>4.5</td>\n",
       "      <td>4.5</td>\n",
       "      <td>9.65</td>\n",
       "      <td>1</td>\n",
       "      <td>1</td>\n",
       "    </tr>\n",
       "    <tr>\n",
       "      <th>1</th>\n",
       "      <td>324</td>\n",
       "      <td>107</td>\n",
       "      <td>4</td>\n",
       "      <td>4.0</td>\n",
       "      <td>4.5</td>\n",
       "      <td>8.87</td>\n",
       "      <td>1</td>\n",
       "      <td>1</td>\n",
       "    </tr>\n",
       "  </tbody>\n",
       "</table>\n",
       "</div>"
      ],
      "text/plain": [
       "   GRE Score  TOEFL Score  University Rating  SOP  LOR  CGPA  Research  \\\n",
       "0        337          118                  4  4.5  4.5  9.65         1   \n",
       "1        324          107                  4  4.0  4.5  8.87         1   \n",
       "\n",
       "   Chance of Admit  \n",
       "0                1  \n",
       "1                1  "
      ]
     },
     "execution_count": 8,
     "metadata": {},
     "output_type": "execute_result"
    }
   ],
   "source": [
    "df.head(2)"
   ]
  },
  {
   "cell_type": "code",
   "execution_count": 9,
   "id": "6e4a741c-c733-4be1-9fc2-c132ef852388",
   "metadata": {},
   "outputs": [],
   "source": [
    "# for knn we must scale data....but this file is for all the algorithms hence some algo(naive) data shd not be scaled...so different variables"
   ]
  },
  {
   "cell_type": "code",
   "execution_count": 10,
   "id": "bd6da3d0-2ab7-4185-adb1-67328c4108c6",
   "metadata": {},
   "outputs": [],
   "source": [
    "# y-->chance of Admit\n",
    "# x-->other variables"
   ]
  },
  {
   "cell_type": "code",
   "execution_count": 11,
   "id": "8ded9422-5b61-4223-94fc-d60dcd5cc577",
   "metadata": {},
   "outputs": [],
   "source": [
    "x=df.drop('Chance of Admit',axis=1)\n",
    "y=df['Chance of Admit']"
   ]
  },
  {
   "cell_type": "code",
   "execution_count": 12,
   "id": "feee09c4-ef0d-49c1-b62f-9001c87f4b31",
   "metadata": {},
   "outputs": [],
   "source": [
    "xtrain,xtest,ytrain,ytest=train_test_split(x,y,random_state=10,test_size=0.2)"
   ]
  },
  {
   "cell_type": "code",
   "execution_count": 13,
   "id": "f696f595-b316-4788-ad8c-4c97d7ebc0c9",
   "metadata": {},
   "outputs": [],
   "source": [
    "from sklearn.linear_model import LogisticRegression\n",
    "lr=LogisticRegression()\n",
    "lr.fit(xtrain,ytrain)\n",
    "ypred_lr=lr.predict(xtest)"
   ]
  },
  {
   "cell_type": "code",
   "execution_count": 14,
   "id": "186146eb-3fbe-4bf8-9a8d-73f6e64bac03",
   "metadata": {},
   "outputs": [
    {
     "name": "stdout",
     "output_type": "stream",
     "text": [
      "Accuracy: 0.775\n",
      "              precision    recall  f1-score   support\n",
      "\n",
      "           0       0.80      0.76      0.78        42\n",
      "           1       0.75      0.79      0.77        38\n",
      "\n",
      "    accuracy                           0.78        80\n",
      "   macro avg       0.78      0.78      0.77        80\n",
      "weighted avg       0.78      0.78      0.78        80\n",
      "\n"
     ]
    }
   ],
   "source": [
    "from sklearn.metrics import confusion_matrix,accuracy_score,classification_report\n",
    "print(\"Accuracy:\",accuracy_score(ytest,ypred_lr))\n",
    "print(classification_report(ytest,ypred_lr))"
   ]
  },
  {
   "cell_type": "code",
   "execution_count": 15,
   "id": "d54fae6b-b869-4485-b724-0b2bf8a37b48",
   "metadata": {},
   "outputs": [],
   "source": [
    "# scaling-->for KNN\n",
    "from sklearn.preprocessing import StandardScaler\n",
    "sc=StandardScaler()\n",
    "xtrain_sc=sc.fit_transform(xtrain)\n",
    "xtest_sc=sc.transform(xtest)"
   ]
  },
  {
   "cell_type": "code",
   "execution_count": 16,
   "id": "c9bfa06a-998c-4393-90a7-660b43050033",
   "metadata": {},
   "outputs": [
    {
     "name": "stdout",
     "output_type": "stream",
     "text": [
      "Accuracy: 0.8375\n",
      "              precision    recall  f1-score   support\n",
      "\n",
      "           0       0.87      0.81      0.84        42\n",
      "           1       0.80      0.87      0.84        38\n",
      "\n",
      "    accuracy                           0.84        80\n",
      "   macro avg       0.84      0.84      0.84        80\n",
      "weighted avg       0.84      0.84      0.84        80\n",
      "\n"
     ]
    }
   ],
   "source": [
    "### KNN\n",
    "\n",
    "from sklearn.neighbors import KNeighborsClassifier\n",
    "knn=KNeighborsClassifier()\n",
    "knn.fit(xtrain_sc,ytrain)\n",
    "ypred_knn=knn.predict(xtest_sc)  # passed scaled data\n",
    "\n",
    "print(\"Accuracy:\",accuracy_score(ytest,ypred_knn))\n",
    "print(classification_report(ytest,ypred_knn))"
   ]
  },
  {
   "cell_type": "code",
   "execution_count": 17,
   "id": "a98d6f96-f128-4d94-be07-d76d05f7c41f",
   "metadata": {},
   "outputs": [
    {
     "name": "stdout",
     "output_type": "stream",
     "text": [
      "Accuracy: 0.85\n",
      "              precision    recall  f1-score   support\n",
      "\n",
      "           0       0.89      0.81      0.85        42\n",
      "           1       0.81      0.89      0.85        38\n",
      "\n",
      "    accuracy                           0.85        80\n",
      "   macro avg       0.85      0.85      0.85        80\n",
      "weighted avg       0.85      0.85      0.85        80\n",
      "\n"
     ]
    }
   ],
   "source": [
    "### Naive Bayes\n",
    "from sklearn.naive_bayes import GaussianNB,BernoulliNB,MultinomialNB\n",
    "gnb=GaussianNB()\n",
    "gnb.fit(xtrain,ytrain)\n",
    "ypred_gnb=gnb.predict(xtest)\n",
    "\n",
    "print(\"Accuracy:\",accuracy_score(ytest,ypred_gnb))\n",
    "print(classification_report(ytest,ypred_gnb))"
   ]
  },
  {
   "cell_type": "code",
   "execution_count": 18,
   "id": "7f6a0711-f01e-47dc-adf1-423a13f18f20",
   "metadata": {},
   "outputs": [
    {
     "name": "stdout",
     "output_type": "stream",
     "text": [
      "Accuracy: 0.7375\n",
      "              precision    recall  f1-score   support\n",
      "\n",
      "           0       0.80      0.67      0.73        42\n",
      "           1       0.69      0.82      0.75        38\n",
      "\n",
      "    accuracy                           0.74        80\n",
      "   macro avg       0.74      0.74      0.74        80\n",
      "weighted avg       0.75      0.74      0.74        80\n",
      "\n"
     ]
    }
   ],
   "source": [
    "bnb=BernoulliNB()\n",
    "bnb.fit(xtrain,ytrain)\n",
    "ypred_bnb=bnb.predict(xtest)\n",
    "\n",
    "print(\"Accuracy:\",accuracy_score(ytest,ypred_bnb))\n",
    "print(classification_report(ytest,ypred_bnb))"
   ]
  },
  {
   "cell_type": "code",
   "execution_count": 19,
   "id": "23a04928-8a4d-429c-a1fc-2a165bda4874",
   "metadata": {},
   "outputs": [
    {
     "name": "stdout",
     "output_type": "stream",
     "text": [
      "Accuracy: 0.8125\n",
      "              precision    recall  f1-score   support\n",
      "\n",
      "           0       0.83      0.81      0.82        42\n",
      "           1       0.79      0.82      0.81        38\n",
      "\n",
      "    accuracy                           0.81        80\n",
      "   macro avg       0.81      0.81      0.81        80\n",
      "weighted avg       0.81      0.81      0.81        80\n",
      "\n"
     ]
    }
   ],
   "source": [
    "mnb=MultinomialNB()\n",
    "mnb.fit(xtrain,ytrain)\n",
    "ypred_mnb=mnb.predict(xtest)\n",
    "\n",
    "print(\"Accuracy:\",accuracy_score(ytest,ypred_mnb))\n",
    "print(classification_report(ytest,ypred_mnb))"
   ]
  },
  {
   "cell_type": "code",
   "execution_count": 20,
   "id": "96f9ae4f-e464-4497-a223-d3459fa35257",
   "metadata": {},
   "outputs": [
    {
     "data": {
      "text/plain": [
       "{'n_neighbors': 6, 'p': 1}"
      ]
     },
     "execution_count": 20,
     "metadata": {},
     "output_type": "execute_result"
    }
   ],
   "source": [
    "# finding best performing hyper-parameters by passing it to the grid search cv\n",
    "\n",
    "from sklearn.model_selection import GridSearchCV\n",
    "\n",
    "parameters={'n_neighbors':[3,4,5,6],'p':[1,2]}\n",
    "knn11=KNeighborsClassifier()\n",
    "knncv=GridSearchCV(knn11,parameters,cv=5,scoring=\"accuracy\")\n",
    "knncv.fit(xtrain_sc,ytrain)\n",
    "knncv.best_params_\n",
    "\n",
    "# for this best performing hyper-parameters for this training data is n=6 and p=1"
   ]
  },
  {
   "cell_type": "code",
   "execution_count": 21,
   "id": "1a66ebf2-be41-4be8-93e5-b754957a8557",
   "metadata": {},
   "outputs": [
    {
     "name": "stdout",
     "output_type": "stream",
     "text": [
      "Accuracy: 0.8625\n",
      "              precision    recall  f1-score   support\n",
      "\n",
      "           0       0.86      0.88      0.87        42\n",
      "           1       0.86      0.84      0.85        38\n",
      "\n",
      "    accuracy                           0.86        80\n",
      "   macro avg       0.86      0.86      0.86        80\n",
      "weighted avg       0.86      0.86      0.86        80\n",
      "\n"
     ]
    }
   ],
   "source": [
    "knn2=KNeighborsClassifier(n_neighbors=6,p=1)\n",
    "knn2.fit(xtrain_sc,ytrain)\n",
    "ypred_knn2=knn2.predict(xtest_sc)  # passed scaled data\n",
    "\n",
    "print(\"Accuracy:\",accuracy_score(ytest,ypred_knn2))\n",
    "print(classification_report(ytest,ypred_knn2))\n",
    "\n",
    "# improved....accuracy from 83% to 86%"
   ]
  },
  {
   "cell_type": "code",
   "execution_count": null,
   "id": "242bca94-6c76-4003-beb6-e086fcb62631",
   "metadata": {},
   "outputs": [],
   "source": []
  },
  {
   "cell_type": "code",
   "execution_count": 22,
   "id": "300f97a4-6da4-4b9e-bf33-c776bc0bd0b5",
   "metadata": {},
   "outputs": [],
   "source": [
    "## GridsearchCV\n",
    "    # used to get the best hyper parameters to predict a model\n",
    "    # can also do ridge,lasso and elasticNet"
   ]
  },
  {
   "cell_type": "code",
   "execution_count": 23,
   "id": "2dad3ca7-c100-4546-b96c-350f6a91f935",
   "metadata": {},
   "outputs": [],
   "source": [
    "### DECISION TREE\n",
    "# not necessarily need scaled data\n"
   ]
  },
  {
   "cell_type": "code",
   "execution_count": 24,
   "id": "ec2ee102-b906-4826-84d8-773e48c8de0f",
   "metadata": {},
   "outputs": [],
   "source": [
    "##1. GINI method\n",
    "from sklearn.tree import DecisionTreeClassifier\n",
    "dtg=DecisionTreeClassifier(random_state=10)\n",
    "dtg.fit(xtrain,ytrain)\n",
    "ypred_dtg=dtg.predict(xtest)"
   ]
  },
  {
   "cell_type": "code",
   "execution_count": 25,
   "id": "cd8a1e16-dd59-440b-8935-0a959b39a6fb",
   "metadata": {},
   "outputs": [
    {
     "name": "stdout",
     "output_type": "stream",
     "text": [
      "[[33  9]\n",
      " [ 7 31]]\n",
      "accuracy_score: 0.8\n",
      "              precision    recall  f1-score   support\n",
      "\n",
      "           0       0.82      0.79      0.80        42\n",
      "           1       0.78      0.82      0.79        38\n",
      "\n",
      "    accuracy                           0.80        80\n",
      "   macro avg       0.80      0.80      0.80        80\n",
      "weighted avg       0.80      0.80      0.80        80\n",
      "\n"
     ]
    }
   ],
   "source": [
    "print(confusion_matrix(ytest,ypred_dtg))\n",
    "print(\"accuracy_score:\",accuracy_score(ytest,ypred_dtg))\n",
    "print(classification_report(ytest,ypred_dtg))"
   ]
  },
  {
   "cell_type": "code",
   "execution_count": 26,
   "id": "20d52905-8629-4c6c-aba7-fe1db1c4f75b",
   "metadata": {},
   "outputs": [
    {
     "name": "stdout",
     "output_type": "stream",
     "text": [
      "Training accuracy: 1.0\n",
      "Test accuracy: 0.8\n"
     ]
    }
   ],
   "source": [
    "## Score function\n",
    "print(\"Training accuracy:\",dtg.score(xtrain,ytrain))\n",
    "print(\"Test accuracy:\",dtg.score(xtest,ytest))"
   ]
  },
  {
   "cell_type": "code",
   "execution_count": 27,
   "id": "1ffb513a-133a-4c55-9d4d-50ef5e533801",
   "metadata": {},
   "outputs": [],
   "source": [
    "##2. entropy method\n",
    "from sklearn.tree import DecisionTreeClassifier\n",
    "dte=DecisionTreeClassifier(criterion='entropy',random_state=10)\n",
    "dte.fit(xtrain,ytrain)\n",
    "ypred_dte=dte.predict(xtest)"
   ]
  },
  {
   "cell_type": "code",
   "execution_count": 28,
   "id": "c6ed2ccf-fd4a-4327-8a2e-bacea3f73029",
   "metadata": {},
   "outputs": [
    {
     "name": "stdout",
     "output_type": "stream",
     "text": [
      "[[33  9]\n",
      " [ 7 31]]\n",
      "accuracy_score: 0.8\n",
      "              precision    recall  f1-score   support\n",
      "\n",
      "           0       0.82      0.79      0.80        42\n",
      "           1       0.78      0.82      0.79        38\n",
      "\n",
      "    accuracy                           0.80        80\n",
      "   macro avg       0.80      0.80      0.80        80\n",
      "weighted avg       0.80      0.80      0.80        80\n",
      "\n"
     ]
    }
   ],
   "source": [
    "print(confusion_matrix(ytest,ypred_dte))\n",
    "print(\"accuracy_score:\",accuracy_score(ytest,ypred_dte))\n",
    "print(classification_report(ytest,ypred_dte))"
   ]
  },
  {
   "cell_type": "code",
   "execution_count": 29,
   "id": "4fc9f750-666f-49bf-882c-8cadac208dfb",
   "metadata": {},
   "outputs": [
    {
     "name": "stdout",
     "output_type": "stream",
     "text": [
      "Training accuracy: 1.0\n",
      "Test accuracy: 0.8\n"
     ]
    }
   ],
   "source": [
    "## Score function\n",
    "print(\"Training accuracy:\",dte.score(xtrain,ytrain))\n",
    "print(\"Test accuracy:\",dte.score(xtest,ytest))"
   ]
  },
  {
   "cell_type": "code",
   "execution_count": 30,
   "id": "d45418eb-b7b4-4772-8cdf-077a1d26d58d",
   "metadata": {},
   "outputs": [
    {
     "name": "stdout",
     "output_type": "stream",
     "text": [
      "Entropy: 1.0\n"
     ]
    }
   ],
   "source": [
    "# entropy manual calculation\n",
    "p_red=0.5\n",
    "p_blue=0.5\n",
    "print(\"Entropy:\",-1*((p_red*np.log2(p_red))+(p_blue*np.log2(p_blue))))"
   ]
  },
  {
   "cell_type": "code",
   "execution_count": 31,
   "id": "f0c44e08-dfd3-42ee-92ca-08bbc1605725",
   "metadata": {},
   "outputs": [
    {
     "name": "stdout",
     "output_type": "stream",
     "text": [
      "Entropy: 0.9709505944546686\n"
     ]
    }
   ],
   "source": [
    "p_red=0.4\n",
    "p_blue=0.6\n",
    "print(\"Entropy:\",-1*((p_red*np.log2(p_red))+(p_blue*np.log2(p_blue))))"
   ]
  },
  {
   "cell_type": "code",
   "execution_count": 32,
   "id": "e7fa328d-e443-4ca5-a0f9-20251e072a5f",
   "metadata": {},
   "outputs": [
    {
     "name": "stdout",
     "output_type": "stream",
     "text": [
      "Entropy information: 0.030000000000000027\n"
     ]
    }
   ],
   "source": [
    "e_info=1-0.970\n",
    "print(\"Entropy information:\",e_info)"
   ]
  },
  {
   "cell_type": "code",
   "execution_count": 33,
   "id": "487ab9f7-9222-4609-b45b-1f555d64c5a1",
   "metadata": {},
   "outputs": [],
   "source": [
    "from sklearn import tree\n",
    "feature=xtrain.columns"
   ]
  },
  {
   "cell_type": "code",
   "execution_count": null,
   "id": "299636d7-11dd-43ac-9908-cc884301aa06",
   "metadata": {},
   "outputs": [],
   "source": [
    "# gini tree\n",
    "plt.figure(figsize=(20,20))\n",
    "tree.plot_tree(dtg,feature_names=feature,filled=True,rounded=True)\n",
    "plt.show()"
   ]
  },
  {
   "cell_type": "code",
   "execution_count": null,
   "id": "425feefc-70ba-41e4-808e-cb3b60c36269",
   "metadata": {},
   "outputs": [],
   "source": [
    "# entropy tree\n",
    "plt.figure(figsize=(20,20))\n",
    "tree.plot_tree(dte,feature_names=feature,filled=True,rounded=True)\n",
    "plt.show()"
   ]
  },
  {
   "cell_type": "code",
   "execution_count": null,
   "id": "f6da493b-6f45-4402-8f46-bb7ac4500131",
   "metadata": {},
   "outputs": [],
   "source": [
    "dt5=DecisionTreeClassifier(max_depth=5,random_state=10)   #excluding root node will go for 5 level\n",
    "dt5.fit(xtrain,ytrain)\n",
    "ypred_dt5=dt5.predict(xtest)\n",
    "plt.figure(figsize=(20,20))\n",
    "tree.plot_tree(dt5,feature_names=feature,filled=True,rounded=True)\n",
    "plt.show()"
   ]
  },
  {
   "cell_type": "code",
   "execution_count": 37,
   "id": "8267538f-1553-489e-8ef0-892943864eb8",
   "metadata": {},
   "outputs": [
    {
     "name": "stdout",
     "output_type": "stream",
     "text": [
      "Training accuracy: 0.93125\n",
      "Test accuracy: 0.8\n"
     ]
    }
   ],
   "source": [
    "print(\"Training accuracy:\",dt5.score(xtrain,ytrain))\n",
    "print(\"Test accuracy:\",dt5.score(xtest,ytest))"
   ]
  },
  {
   "cell_type": "code",
   "execution_count": 38,
   "id": "faab28d0-51f8-4a34-9755-874111149019",
   "metadata": {},
   "outputs": [
    {
     "name": "stdout",
     "output_type": "stream",
     "text": [
      "{'criterion': 'gini', 'max_depth': 5, 'min_samples_leaf': 20}\n",
      "0.859375\n"
     ]
    }
   ],
   "source": [
    "# parameters to build the model on\n",
    "parameters={'max_depth':[5,6,7],'min_samples_leaf':[10,20],'criterion':['gini','entropy']}\n",
    "dt11=DecisionTreeClassifier()\n",
    "dt11cv=GridSearchCV(dt11,parameters,cv=5,scoring='accuracy')\n",
    "dt11cv.fit(xtrain,ytrain)\n",
    "print(dt11cv.best_params_)\n",
    "print(dt11cv.best_score_)"
   ]
  },
  {
   "cell_type": "code",
   "execution_count": 39,
   "id": "d9539fc8-4514-4e19-b749-2ff75685b919",
   "metadata": {},
   "outputs": [
    {
     "name": "stdout",
     "output_type": "stream",
     "text": [
      "[[37  5]\n",
      " [ 7 31]]\n",
      "accuracy_score: 0.85\n",
      "              precision    recall  f1-score   support\n",
      "\n",
      "           0       0.84      0.88      0.86        42\n",
      "           1       0.86      0.82      0.84        38\n",
      "\n",
      "    accuracy                           0.85        80\n",
      "   macro avg       0.85      0.85      0.85        80\n",
      "weighted avg       0.85      0.85      0.85        80\n",
      "\n"
     ]
    }
   ],
   "source": [
    "dt11=DecisionTreeClassifier(max_depth=5,random_state=10,min_samples_leaf=20,criterion='gini')   #excluding root node will go for 5 level\n",
    "dt11.fit(xtrain,ytrain)\n",
    "ypred_dt11=dt11.predict(xtest)\n",
    "print(confusion_matrix(ytest,ypred_dt11))\n",
    "print(\"accuracy_score:\",accuracy_score(ytest,ypred_dt11))\n",
    "print(classification_report(ytest,ypred_dt11))"
   ]
  },
  {
   "cell_type": "code",
   "execution_count": null,
   "id": "a2f2b3a4-da81-4db1-9d47-70d7508702d0",
   "metadata": {},
   "outputs": [],
   "source": [
    "ypred_prob_dt=dt.predict_proba(xtest)"
   ]
  },
  {
   "cell_type": "code",
   "execution_count": null,
   "id": "58f5a321-83e8-49ca-88b0-7a43fae08ab1",
   "metadata": {},
   "outputs": [],
   "source": [
    "ypred_prob_dt[10:20]"
   ]
  },
  {
   "cell_type": "code",
   "execution_count": null,
   "id": "c723635b-e0fd-43db-bc32-bb383b39beec",
   "metadata": {},
   "outputs": [],
   "source": [
    "from sklearn.metrics import roc_auc_score,roc_curve\n",
    "y_pred_prob_gnb=gnb.predict_proba(xtest)[:,1]   #first column or positive class\n",
    "fpr,tpr,threshold=roc_curve(ytest,y_pred_prob_gnb)  \n",
    "print(roc_auc_score(ytest,y_pred_prob_gnb)) \n",
    "plt.plot(fpr,tpr)\n",
    "plt.plot([0,1],[0,1],'r--')\n",
    "plt.show()\n"
   ]
  },
  {
   "cell_type": "code",
   "execution_count": null,
   "id": "e2ba18a1-bb92-47ef-b4f3-1bb40593aa04",
   "metadata": {},
   "outputs": [],
   "source": []
  },
  {
   "cell_type": "code",
   "execution_count": null,
   "id": "0177e08e-b079-4ab6-944a-94bc4374b7e9",
   "metadata": {},
   "outputs": [],
   "source": [
    "### Feature selection/importance\n",
    "\n",
    "dtg.feature_importances_"
   ]
  },
  {
   "cell_type": "code",
   "execution_count": null,
   "id": "50db7a5f-db11-4745-bfa7-c2a5f8e3bbfa",
   "metadata": {},
   "outputs": [],
   "source": [
    "xtrain.columns  #research not contributing"
   ]
  },
  {
   "cell_type": "code",
   "execution_count": null,
   "id": "1b3b56ca-5964-4eef-8b20-c12077507e1c",
   "metadata": {},
   "outputs": [],
   "source": [
    "features_df=pd.DataFrame()\n",
    "features_df['Feature']=xtrain.columns\n",
    "features_df['Importances']=dtg.feature_importances_\n",
    "features_df"
   ]
  },
  {
   "cell_type": "code",
   "execution_count": null,
   "id": "a0c356b2-afa5-42c6-9c87-30d3c6128577",
   "metadata": {},
   "outputs": [],
   "source": [
    "features_df=features_df.sort_values('Importances',ascending=False)"
   ]
  },
  {
   "cell_type": "code",
   "execution_count": null,
   "id": "a0b7a1fb-9a6f-4285-b7a0-93cbbfbdaf21",
   "metadata": {},
   "outputs": [],
   "source": [
    "sns.barplot(x='Importances',y='Feature',data=features_df)\n",
    "plt.show()"
   ]
  },
  {
   "cell_type": "code",
   "execution_count": null,
   "id": "be504bad-8d8f-4afc-8752-bc96e730274a",
   "metadata": {},
   "outputs": [],
   "source": [
    "### Ensemble \n",
    "## Random Forest\n",
    "\n",
    "from sklearn.ensemble import RandomForestClassifier\n",
    "rf=RandomForestClassifier(random_state=10)\n",
    "rf.fit(xtrain,ytrain)\n",
    "ypred_rf=rf.predict(xtest)\n",
    "print(confusion_matrix(ytest,ypred_rf))\n",
    "print(\"accuracy_score:\",accuracy_score(ytest,ypred_rf))\n",
    "print(classification_report(ytest,ypred_rf))\n",
    "\n",
    "print(\"Training accuracy:\",rf.score(xtrain,ytrain))\n",
    "print(\"Test accuracy:\",rf.score(xtest,ytest))\n",
    "\n",
    "rf.feature_importances_"
   ]
  },
  {
   "cell_type": "code",
   "execution_count": null,
   "id": "5ee5347b-358d-4780-ae00-23c526da9d6a",
   "metadata": {},
   "outputs": [],
   "source": [
    "# findding best parameters to build model\n",
    "parameters={'n_estimators':[10,20],\n",
    "            'max_depth':[5,6,7],\n",
    "            'criterion':['gini','entropy']}\n",
    "rf11=RandomForestClassifier(random_state=10)\n",
    "rf_cv=GridSearchCV(rf11,parameters,cv=3,scoring=\"accuracy\")\n",
    "rf_cv.fit(xtrain,ytrain)\n",
    "print(rf_cv.best_params_)\n",
    "print(rf_cv.best_score_)\n"
   ]
  },
  {
   "cell_type": "code",
   "execution_count": null,
   "id": "34f04dc1-d095-4f1d-a37b-9aa7d4a9b6a0",
   "metadata": {},
   "outputs": [],
   "source": [
    "rf2=RandomForestClassifier(criterion='gini',max_depth=6,n_estimators=20,random_state=10)\n",
    "rf2.fit(xtrain,ytrain)\n",
    "ypred_rf2=rf2.predict(xtest)\n",
    "print(confusion_matrix(ytest,ypred_rf2))\n",
    "print(\"accuracy_score:\",accuracy_score(ytest,ypred_rf2))\n",
    "print(classification_report(ytest,ypred_rf2))\n",
    "\n",
    "print(\"Training accuracy:\",rf2.score(xtrain,ytrain))\n",
    "print(\"Test accuracy:\",rf2.score(xtest,ytest))\n",
    "\n",
    "rf2.feature_importances_"
   ]
  },
  {
   "cell_type": "code",
   "execution_count": null,
   "id": "5a36d0e5-1273-4ef0-96d7-e94a7ec47921",
   "metadata": {},
   "outputs": [],
   "source": [
    "## oob score parameter\n",
    "rf3=RandomForestClassifier(oob_score=True,criterion='gini',max_depth=6,n_estimators=20,random_state=10)\n",
    "rf3.fit(xtrain,ytrain)\n",
    "ypred_rf3=rf3.predict(xtest)\n",
    "print(confusion_matrix(ytest,ypred_rf3))\n",
    "print(\"accuracy_score:\",accuracy_score(ytest,ypred_rf3))\n",
    "print(classification_report(ytest,ypred_rf3))\n",
    "rf3.oob_score_\n",
    "print(\"Training accuracy:\",rf3.score(xtrain,ytrain))\n",
    "print(\"Test accuracy:\",rf3.score(xtest,ytest))"
   ]
  },
  {
   "cell_type": "code",
   "execution_count": null,
   "id": "7734306a-e219-4626-9352-f0f883a6929f",
   "metadata": {},
   "outputs": [],
   "source": [
    "## Bagging classifier\n",
    "from sklearn.ensemble import BaggingClassifier\n",
    "bc=BaggingClassifier(random_state=10)\n",
    "bc.fit(xtrain,ytrain)\n",
    "ypred_bc=bc.predict(xtest)\n",
    "print(\"accuracy_score:\",accuracy_score(ytest,ypred_bc))\n",
    "print(confusion_matrix(ytest,ypred_bc))\n",
    "print(classification_report(ytest,ypred_bc))"
   ]
  },
  {
   "cell_type": "code",
   "execution_count": null,
   "id": "dca5f8c4-74af-4777-97f7-b5598e5a0f54",
   "metadata": {},
   "outputs": [],
   "source": [
    "knn=KNeighborsClassifier()\n",
    "bag_knn=BaggingClassifier(estimator=knn,n_estimators=20,random_state=10)\n",
    "bag_knn.fit(xtrain,ytrain)\n",
    "ypred_bag_knn=bag_knn.predict(xtest)\n",
    "print(\"accuracy_score:\",accuracy_score(ytest,ypred_bag_knn))\n",
    "print(confusion_matrix(ytest,ypred_bag_knn))"
   ]
  },
  {
   "cell_type": "code",
   "execution_count": null,
   "id": "a92cf566-6ba0-4410-9c25-a353380909c2",
   "metadata": {},
   "outputs": [],
   "source": [
    "## cross value score\n",
    "from sklearn.model_selection import cross_val_score\n",
    "scores=cross_val_score(rf,xtrain,ytrain,cv=5,scoring='accuracy')\n",
    "np.mean(scores)  #mean accuracy"
   ]
  },
  {
   "cell_type": "code",
   "execution_count": null,
   "id": "ff5421ba-418a-49af-a7ea-f9fcb7bb440c",
   "metadata": {},
   "outputs": [],
   "source": []
  },
  {
   "cell_type": "code",
   "execution_count": null,
   "id": "6d8c1a34-84dc-4ca1-854f-d52f6540b665",
   "metadata": {},
   "outputs": [],
   "source": [
    "### Boosting\n",
    "## Ada boost\n",
    "\n",
    "from sklearn.ensemble import AdaBoostClassifier\n",
    "abcl=AdaBoostClassifier(random_state=10)  #default n_estimators=50 (50 models)\n",
    "abcl.fit(xtrain,ytrain)\n",
    "ypred_abcl=abcl.predict(xtest)"
   ]
  },
  {
   "cell_type": "code",
   "execution_count": null,
   "id": "0cff1daf-e906-47aa-bee2-92ffd8ec00a3",
   "metadata": {},
   "outputs": [],
   "source": [
    "print(confusion_matrix(ytest,ypred_abcl))\n",
    "print(accuracy_score(ytest,ypred_abcl))"
   ]
  },
  {
   "cell_type": "code",
   "execution_count": null,
   "id": "9e8c0c61-81fc-4527-9edc-25d4b20a6101",
   "metadata": {},
   "outputs": [],
   "source": [
    "print('Training accuracy :' ,abcl.score(xtrain,ytrain))\n",
    "print('Test accuracy :' ,abcl.score(xtest,ytest))"
   ]
  },
  {
   "cell_type": "code",
   "execution_count": null,
   "id": "cd9a3e39-6987-4faf-ae41-8c5c3dcafa5a",
   "metadata": {},
   "outputs": [],
   "source": [
    "from sklearn.ensemble import AdaBoostClassifier\n",
    "abcl=AdaBoostClassifier(n_estimators=10,random_state=10)   # 10 models(stumps)\n",
    "abcl.fit(xtrain,ytrain)\n",
    "ypred_abcl=abcl.predict(xtest)"
   ]
  },
  {
   "cell_type": "code",
   "execution_count": null,
   "id": "80362525-17c6-485c-b3b8-d4dd40181ff3",
   "metadata": {},
   "outputs": [],
   "source": [
    "print(confusion_matrix(ytest,ypred_abcl))\n",
    "print(accuracy_score(ytest,ypred_abcl))"
   ]
  },
  {
   "cell_type": "code",
   "execution_count": null,
   "id": "e5c48081-9444-4cfc-873d-590c1ad91a39",
   "metadata": {},
   "outputs": [],
   "source": [
    "print('Training accuracy :' ,abcl.score(xtrain,ytrain))\n",
    "print('Test accuracy :' ,abcl.score(xtest,ytest))"
   ]
  },
  {
   "cell_type": "code",
   "execution_count": null,
   "id": "8b455cbd-cdf3-41e5-a97d-c5f941501b0a",
   "metadata": {},
   "outputs": [],
   "source": [
    "### Gradient boosting\n",
    "\n",
    "from sklearn.ensemble import GradientBoostingClassifier\n",
    "gbcl=GradientBoostingClassifier(n_estimators=30,random_state=10)   # 10 models(stumps)\n",
    "gbcl.fit(xtrain,ytrain)\n",
    "ypred_gbcl=gbcl.predict(xtest)"
   ]
  },
  {
   "cell_type": "code",
   "execution_count": null,
   "id": "af4e6f2e-0a6e-44c7-8e57-776bf2f45af6",
   "metadata": {},
   "outputs": [],
   "source": [
    "print('Training accuracy :' ,gbcl.score(xtrain,ytrain))\n",
    "print('Test accuracy :' ,gbcl.score(xtest,ytest))"
   ]
  },
  {
   "cell_type": "code",
   "execution_count": null,
   "id": "00dba3b5-9d44-4dd8-b011-0ba8c741533b",
   "metadata": {},
   "outputs": [],
   "source": [
    "### XG Boost\n",
    "\n",
    "!pip install xgboost"
   ]
  },
  {
   "cell_type": "code",
   "execution_count": null,
   "id": "f99c5cf4-db66-4f70-b913-c921c3234406",
   "metadata": {},
   "outputs": [],
   "source": [
    "from xgboost import XGBClassifier"
   ]
  },
  {
   "cell_type": "code",
   "execution_count": null,
   "id": "f19391bc-8b3c-4e71-bdd8-cae3b91b0ce9",
   "metadata": {},
   "outputs": [],
   "source": [
    "from sklearn.ensemble import GradientBoostingClassifier\n",
    "gb=GradientBoostingClassifier(n_estimators=2,random_state=10)\n",
    "gb.fit(xtrain,ytrain)\n",
    "ypred_gb=gb.predict(xtest)\n",
    "print('confusion_mat:\\n',confusion_matrix(ytest,ypred_gb))\n",
    "print('accuracy_score:',accuracy_score(ytest,ypred_gb))\n",
    "print('  ')\n",
    "print(classification_report(ytest,ypred_gb))\n",
    "print('train accuracy:',gb.score(xtrain,ytrain))\n",
    "print('test accuracy:',gb.score(xtest,ytest))"
   ]
  },
  {
   "cell_type": "code",
   "execution_count": null,
   "id": "0f6b3df7-5574-439b-b144-1fb87766cdb9",
   "metadata": {},
   "outputs": [],
   "source": []
  },
  {
   "cell_type": "code",
   "execution_count": null,
   "id": "ce6dfa0a-ef39-48f3-a485-6ddfc4b9a31d",
   "metadata": {},
   "outputs": [],
   "source": []
  },
  {
   "cell_type": "code",
   "execution_count": null,
   "id": "9e01144b-78d9-4b69-8276-7bdec15ad4e9",
   "metadata": {},
   "outputs": [],
   "source": [
    "### XGBoost\n",
    "### XGBClassifier"
   ]
  },
  {
   "cell_type": "code",
   "execution_count": null,
   "id": "22a4da35-314e-400c-bac0-3d1aec4d6885",
   "metadata": {},
   "outputs": [],
   "source": [
    "from xgboost import XGBClassifier"
   ]
  },
  {
   "cell_type": "code",
   "execution_count": 44,
   "id": "88e1a3de-342c-448a-8a95-a83ab735479e",
   "metadata": {},
   "outputs": [],
   "source": [
    "xgb_model=XGBClassifier(random_state=10)\n",
    "xgb_model.fit(xtrain,ytrain)\n",
    "ypred_xgb=xgb_model.predict(xtest)"
   ]
  },
  {
   "cell_type": "code",
   "execution_count": 45,
   "id": "1b81f60f-034a-47bc-b751-1fa099366a10",
   "metadata": {},
   "outputs": [
    {
     "name": "stdout",
     "output_type": "stream",
     "text": [
      "Train accuracy: 1.0\n",
      "Test accuracy: 0.8125\n"
     ]
    }
   ],
   "source": [
    "print(\"Train accuracy:\",xgb_model.score(xtrain,ytrain))\n",
    "print(\"Test accuracy:\",xgb_model.score(xtest,ytest))\n"
   ]
  },
  {
   "cell_type": "code",
   "execution_count": 46,
   "id": "3b7196cf-6bd7-463f-8d01-42987cfb2f94",
   "metadata": {},
   "outputs": [
    {
     "name": "stdout",
     "output_type": "stream",
     "text": [
      "{'gamma': 1, 'learning_rate': 0.1, 'max_depth': 3}\n",
      "0.8844413095867866\n"
     ]
    }
   ],
   "source": [
    "parameters={'learning_rate':[0.1,0.2],\n",
    "            'max_depth':[3,4,5],\n",
    "            'gamma':[0,1,2]}\n",
    "xgb1=XGBClassifier()#random_state=10)\n",
    "xgb_cv=GridSearchCV(xgb1,parameters,cv=3,scoring='accuracy')\n",
    "xgb_cv.fit(xtrain,ytrain)\n",
    "print(xgb_cv.best_params_)\n",
    "print(xgb_cv.best_score_)"
   ]
  },
  {
   "cell_type": "code",
   "execution_count": 48,
   "id": "9e602e79-1e9c-41bd-b46b-722090f0a619",
   "metadata": {},
   "outputs": [
    {
     "name": "stdout",
     "output_type": "stream",
     "text": [
      "Train accuracy: 0.915625\n",
      "Test accuracy: 0.8375\n"
     ]
    }
   ],
   "source": [
    "xgb_model2=XGBClassifier(max_depth=3,random_state=10,gamma=1,learning_rate=0.1)\n",
    "xgb_model2.fit(xtrain,ytrain)\n",
    "ypred_xgb2=xgb_model2.predict(xtest)\n",
    "print(\"Train accuracy:\",xgb_model2.score(xtrain,ytrain))\n",
    "print(\"Test accuracy:\",xgb_model2.score(xtest,ytest))\n"
   ]
  },
  {
   "cell_type": "code",
   "execution_count": 49,
   "id": "bf489fcf-989c-439c-87e1-89426d3e59ee",
   "metadata": {},
   "outputs": [],
   "source": [
    "### Stack\n",
    "\n",
    "from sklearn.ensemble import StackingClassifier"
   ]
  },
  {
   "cell_type": "code",
   "execution_count": 50,
   "id": "b0644273-30dc-4876-80d5-09545ce056e2",
   "metadata": {},
   "outputs": [],
   "source": [
    "lr=LogisticRegression()\n",
    "gnb=GaussianNB()\n",
    "dt=DecisionTreeClassifier(random_state=10)\n",
    "ab=AdaBoostClassifier()"
   ]
  },
  {
   "cell_type": "code",
   "execution_count": 56,
   "id": "241f6d6a-5b4d-480b-a8db-e31bfc9193f4",
   "metadata": {},
   "outputs": [],
   "source": [
    "# any algorithms can be used\n",
    "base_learners=[('lr_model',lr),\n",
    "               ('KNN_model',knn),\n",
    "               ('DT_model',dt)]\n",
    "              #'ABCL_model',ab)]"
   ]
  },
  {
   "cell_type": "code",
   "execution_count": 53,
   "id": "619f1e05-c695-46db-bf99-041a61c04000",
   "metadata": {},
   "outputs": [
    {
     "name": "stdout",
     "output_type": "stream",
     "text": [
      "Train accuracy: 0.915625\n",
      "Test accuracy: 0.8375\n"
     ]
    }
   ],
   "source": [
    "stack=StackingClassifier(base_learners,final_estimator=GaussianNB())   # final estimator can be any model\n",
    "stack.fit(xtrain,ytrain)\n",
    "ypred_stack=stack.predict(xtest)\n",
    "print(\"Train accuracy:\",xgb_model2.score(xtrain,ytrain))\n",
    "print(\"Test accuracy:\",xgb_model2.score(xtest,ytest))"
   ]
  },
  {
   "cell_type": "code",
   "execution_count": null,
   "id": "2e079312-eb1d-4e73-b412-b2b1eeb4b9ce",
   "metadata": {},
   "outputs": [],
   "source": [
    "    ### Case study"
   ]
  },
  {
   "cell_type": "code",
   "execution_count": 57,
   "id": "f68dd2fa-a92b-446a-adfa-7ee1e06b8bbf",
   "metadata": {},
   "outputs": [],
   "source": [
    "#wrong\n",
    "\n",
    "# # create an empty dataframe to store the scores for various algorithms\n",
    "# score_card = pd.DataFrame(columns=['Model Name', 'Train Accuracy Score','Test Accuracy Score','f1-micro',\n",
    "#                                        'f1-macro', 'f1-weighted'])\n",
    "\n",
    "# # append the result table for all performance scores\n",
    "# # performance measures considered for model comparision are 'AUC Score', 'Recall Score','Accuracy Score',\n",
    "# # 'Kappa Score','f1-score' and roc auc score\n",
    "# # compile the required information in a user defined function \n",
    "# def update_score_card(model_name,model,X_train,X_test,y_train,y_test):\n",
    "#     from sklearn import metrics\n",
    "#     y_pred_train = model.predict(X_train)\n",
    "#     # let 'y_pred' be the predicted values of y\n",
    "#     y_pred = model.predict(X_test)\n",
    "    \n",
    "#     # assign 'score_card' as global variable\n",
    "#     global score_card\n",
    "\n",
    "#     # append the results to the dataframe 'score_card'\n",
    "#     # 'ignore_index = True' do not consider the index labels\n",
    "#     score_card = score_card.append({'Model Name':model_name,\n",
    "#                                     'Train Accuracy Score': metrics.accuracy_score(y_train, y_pred_train),\n",
    "#                                     'Test Accuracy Score': metrics.accuracy_score(y_test, y_pred),\n",
    "#                                     'f1-micro':metrics.f1_score(y_test,y_pred,average='micro'),\n",
    "#                                     'f1-macro':metrics.f1_score(y_test,y_pred,average='macro'),\n",
    "#                                     'f1-weighted':metrics.f1_score(y_test,y_pred,average='weighted')}, \n",
    "#                                     ignore_index = True)\n",
    "#     return score_card"
   ]
  },
  {
   "cell_type": "code",
   "execution_count": 58,
   "id": "ccfcde75-96d3-4018-9c62-66b1413b5894",
   "metadata": {},
   "outputs": [],
   "source": [
    "def Classification_report_method(model,X_train,y_train,X_test,y_test):\n",
    "    # model get predicted value for y_train\n",
    "    y_train_pred = model.predict(X_train)\n",
    "    \n",
    "    # model get predicted value for y_train\n",
    "    y_test_pred = model.predict(X_test)\n",
    "    print('Classification Report for Train Data:')\n",
    "    # classification report\n",
    "    print(classification_report(y_train,y_train_pred))\n",
    "    print()\n",
    "    print('Classification Report for Test Data:')\n",
    "    # classification report\n",
    "    print(classification_report(y_test,y_test_pred))"
   ]
  },
  {
   "cell_type": "code",
   "execution_count": 72,
   "id": "56948b8e-c7cf-491d-883d-21ce25324680",
   "metadata": {},
   "outputs": [],
   "source": [
    "# create an empty dataframe to store the scores for various algorithms\n",
    "score_card = pd.DataFrame(columns=['Model Name', 'Train Accuracy Score','Test Accuracy Score','Train F1 Score','Test F1 Score','f1-micro',\n",
    "                                       'f1-macro', 'f1-weighted'])\n",
    "\n",
    "# append the result table for all performance scores\n",
    "# performance measures considered for model comparision are 'AUC Score', 'Recall Score','Accuracy Score',\n",
    "# 'Kappa Score','f1-score' and roc auc score\n",
    "# compile the required information in a user defined function \n",
    "def update_score_card(model_name,model,X_train,X_test,y_train,y_test):\n",
    "    from sklearn import metrics\n",
    "    y_pred_train = model.predict(X_train)\n",
    "    # let 'y_pred' be the predicted values of y\n",
    "    y_pred = model.predict(X_test)\n",
    "    \n",
    "    # assign 'score_card' as global variable\n",
    "    global score_card\n",
    "\n",
    "    # append the results to the dataframe 'score_card'\n",
    "    # 'ignore_index = True' do not consider the index labels\n",
    "    score_card=pd.concat([score_card,pd.DataFrame({'Model Name':[model_name],\n",
    "                                    'Train Accuracy Score': [metrics.accuracy_score(y_train, y_pred_train)],\n",
    "                                    'Test Accuracy Score': [metrics.accuracy_score(y_test, y_pred)],\n",
    "                                     'Train F1 Score': [metrics.f1_score(y_train, y_pred_train)],\n",
    "                                    'Test F1 Score': [metrics.f1_score(y_test, y_pred)],\n",
    "                                    'f1-micro':[metrics.f1_score(y_test,y_pred,average='micro')],\n",
    "                                    'f1-macro':[metrics.f1_score(y_test,y_pred,average='macro')],\n",
    "                                    'f1-weighted':[metrics.f1_score(y_test,y_pred,average='weighted')]})])\n",
    "    score_card=score_card.reset_index(drop=True)\n",
    "    return score_card"
   ]
  },
  {
   "cell_type": "code",
   "execution_count": 73,
   "id": "67246fe0-4625-4d89-b6f4-99a8f722bc44",
   "metadata": {},
   "outputs": [
    {
     "data": {
      "text/html": [
       "<div>\n",
       "<style scoped>\n",
       "    .dataframe tbody tr th:only-of-type {\n",
       "        vertical-align: middle;\n",
       "    }\n",
       "\n",
       "    .dataframe tbody tr th {\n",
       "        vertical-align: top;\n",
       "    }\n",
       "\n",
       "    .dataframe thead th {\n",
       "        text-align: right;\n",
       "    }\n",
       "</style>\n",
       "<table border=\"1\" class=\"dataframe\">\n",
       "  <thead>\n",
       "    <tr style=\"text-align: right;\">\n",
       "      <th></th>\n",
       "      <th>Model Name</th>\n",
       "      <th>Train Accuracy Score</th>\n",
       "      <th>Test Accuracy Score</th>\n",
       "      <th>Train F1 Score</th>\n",
       "      <th>Test F1 Score</th>\n",
       "      <th>f1-micro</th>\n",
       "      <th>f1-macro</th>\n",
       "      <th>f1-weighted</th>\n",
       "    </tr>\n",
       "  </thead>\n",
       "  <tbody>\n",
       "    <tr>\n",
       "      <th>0</th>\n",
       "      <td>Logistic Regression</td>\n",
       "      <td>0.8625</td>\n",
       "      <td>0.775</td>\n",
       "      <td>0.841727</td>\n",
       "      <td>0.769231</td>\n",
       "      <td>0.775</td>\n",
       "      <td>0.774859</td>\n",
       "      <td>0.775141</td>\n",
       "    </tr>\n",
       "  </tbody>\n",
       "</table>\n",
       "</div>"
      ],
      "text/plain": [
       "            Model Name  Train Accuracy Score  Test Accuracy Score  \\\n",
       "0  Logistic Regression                0.8625                0.775   \n",
       "\n",
       "   Train F1 Score  Test F1 Score  f1-micro  f1-macro  f1-weighted  \n",
       "0        0.841727       0.769231     0.775  0.774859     0.775141  "
      ]
     },
     "execution_count": 73,
     "metadata": {},
     "output_type": "execute_result"
    }
   ],
   "source": [
    "lr=LogisticRegression()\n",
    "lr.fit(xtrain,ytrain)\n",
    "update_score_card(\"Logistic Regression\",lr,xtrain,xtest,ytrain,ytest)"
   ]
  },
  {
   "cell_type": "code",
   "execution_count": 74,
   "id": "8de6bac4-deaf-4449-86d6-3f7c154d10dc",
   "metadata": {},
   "outputs": [
    {
     "data": {
      "text/html": [
       "<div>\n",
       "<style scoped>\n",
       "    .dataframe tbody tr th:only-of-type {\n",
       "        vertical-align: middle;\n",
       "    }\n",
       "\n",
       "    .dataframe tbody tr th {\n",
       "        vertical-align: top;\n",
       "    }\n",
       "\n",
       "    .dataframe thead th {\n",
       "        text-align: right;\n",
       "    }\n",
       "</style>\n",
       "<table border=\"1\" class=\"dataframe\">\n",
       "  <thead>\n",
       "    <tr style=\"text-align: right;\">\n",
       "      <th></th>\n",
       "      <th>Model Name</th>\n",
       "      <th>Train Accuracy Score</th>\n",
       "      <th>Test Accuracy Score</th>\n",
       "      <th>Train F1 Score</th>\n",
       "      <th>Test F1 Score</th>\n",
       "      <th>f1-micro</th>\n",
       "      <th>f1-macro</th>\n",
       "      <th>f1-weighted</th>\n",
       "    </tr>\n",
       "  </thead>\n",
       "  <tbody>\n",
       "    <tr>\n",
       "      <th>0</th>\n",
       "      <td>Logistic Regression</td>\n",
       "      <td>0.8625</td>\n",
       "      <td>0.775</td>\n",
       "      <td>0.841727</td>\n",
       "      <td>0.769231</td>\n",
       "      <td>0.775</td>\n",
       "      <td>0.774859</td>\n",
       "      <td>0.775141</td>\n",
       "    </tr>\n",
       "    <tr>\n",
       "      <th>1</th>\n",
       "      <td>Decision Tree</td>\n",
       "      <td>1.0000</td>\n",
       "      <td>0.800</td>\n",
       "      <td>1.000000</td>\n",
       "      <td>0.794872</td>\n",
       "      <td>0.800</td>\n",
       "      <td>0.799875</td>\n",
       "      <td>0.800125</td>\n",
       "    </tr>\n",
       "  </tbody>\n",
       "</table>\n",
       "</div>"
      ],
      "text/plain": [
       "            Model Name  Train Accuracy Score  Test Accuracy Score  \\\n",
       "0  Logistic Regression                0.8625                0.775   \n",
       "1        Decision Tree                1.0000                0.800   \n",
       "\n",
       "   Train F1 Score  Test F1 Score  f1-micro  f1-macro  f1-weighted  \n",
       "0        0.841727       0.769231     0.775  0.774859     0.775141  \n",
       "1        1.000000       0.794872     0.800  0.799875     0.800125  "
      ]
     },
     "execution_count": 74,
     "metadata": {},
     "output_type": "execute_result"
    }
   ],
   "source": [
    "dt=DecisionTreeClassifier(random_state=10)\n",
    "dt.fit(xtrain,ytrain)\n",
    "update_score_card(\"Decision Tree\",dt,xtrain,xtest,ytrain,ytest)"
   ]
  },
  {
   "cell_type": "code",
   "execution_count": 75,
   "id": "f350c168-fd8d-4cd6-baa4-0b3a708862d0",
   "metadata": {},
   "outputs": [
    {
     "data": {
      "text/html": [
       "<div>\n",
       "<style scoped>\n",
       "    .dataframe tbody tr th:only-of-type {\n",
       "        vertical-align: middle;\n",
       "    }\n",
       "\n",
       "    .dataframe tbody tr th {\n",
       "        vertical-align: top;\n",
       "    }\n",
       "\n",
       "    .dataframe thead th {\n",
       "        text-align: right;\n",
       "    }\n",
       "</style>\n",
       "<table border=\"1\" class=\"dataframe\">\n",
       "  <thead>\n",
       "    <tr style=\"text-align: right;\">\n",
       "      <th></th>\n",
       "      <th>Model Name</th>\n",
       "      <th>Train Accuracy Score</th>\n",
       "      <th>Test Accuracy Score</th>\n",
       "      <th>Train F1 Score</th>\n",
       "      <th>Test F1 Score</th>\n",
       "      <th>f1-micro</th>\n",
       "      <th>f1-macro</th>\n",
       "      <th>f1-weighted</th>\n",
       "    </tr>\n",
       "  </thead>\n",
       "  <tbody>\n",
       "    <tr>\n",
       "      <th>0</th>\n",
       "      <td>Logistic Regression</td>\n",
       "      <td>0.86250</td>\n",
       "      <td>0.775</td>\n",
       "      <td>0.841727</td>\n",
       "      <td>0.769231</td>\n",
       "      <td>0.775</td>\n",
       "      <td>0.774859</td>\n",
       "      <td>0.775141</td>\n",
       "    </tr>\n",
       "    <tr>\n",
       "      <th>1</th>\n",
       "      <td>Decision Tree</td>\n",
       "      <td>1.00000</td>\n",
       "      <td>0.800</td>\n",
       "      <td>1.000000</td>\n",
       "      <td>0.794872</td>\n",
       "      <td>0.800</td>\n",
       "      <td>0.799875</td>\n",
       "      <td>0.800125</td>\n",
       "    </tr>\n",
       "    <tr>\n",
       "      <th>2</th>\n",
       "      <td>Gaussian NB</td>\n",
       "      <td>0.88125</td>\n",
       "      <td>0.850</td>\n",
       "      <td>0.863309</td>\n",
       "      <td>0.850000</td>\n",
       "      <td>0.850</td>\n",
       "      <td>0.850000</td>\n",
       "      <td>0.850000</td>\n",
       "    </tr>\n",
       "  </tbody>\n",
       "</table>\n",
       "</div>"
      ],
      "text/plain": [
       "            Model Name  Train Accuracy Score  Test Accuracy Score  \\\n",
       "0  Logistic Regression               0.86250                0.775   \n",
       "1        Decision Tree               1.00000                0.800   \n",
       "2          Gaussian NB               0.88125                0.850   \n",
       "\n",
       "   Train F1 Score  Test F1 Score  f1-micro  f1-macro  f1-weighted  \n",
       "0        0.841727       0.769231     0.775  0.774859     0.775141  \n",
       "1        1.000000       0.794872     0.800  0.799875     0.800125  \n",
       "2        0.863309       0.850000     0.850  0.850000     0.850000  "
      ]
     },
     "execution_count": 75,
     "metadata": {},
     "output_type": "execute_result"
    }
   ],
   "source": [
    "gnc=GaussianNB()\n",
    "gnb.fit(xtrain,ytrain)\n",
    "update_score_card(\"Gaussian NB\",gnb,xtrain,xtest,ytrain,ytest)"
   ]
  },
  {
   "cell_type": "code",
   "execution_count": 76,
   "id": "c5ba066d-4ac2-43e8-890c-6e7e496e380e",
   "metadata": {},
   "outputs": [
    {
     "data": {
      "text/html": [
       "<div>\n",
       "<style scoped>\n",
       "    .dataframe tbody tr th:only-of-type {\n",
       "        vertical-align: middle;\n",
       "    }\n",
       "\n",
       "    .dataframe tbody tr th {\n",
       "        vertical-align: top;\n",
       "    }\n",
       "\n",
       "    .dataframe thead th {\n",
       "        text-align: right;\n",
       "    }\n",
       "</style>\n",
       "<table border=\"1\" class=\"dataframe\">\n",
       "  <thead>\n",
       "    <tr style=\"text-align: right;\">\n",
       "      <th></th>\n",
       "      <th>Model Name</th>\n",
       "      <th>Train Accuracy Score</th>\n",
       "      <th>Test Accuracy Score</th>\n",
       "      <th>Train F1 Score</th>\n",
       "      <th>Test F1 Score</th>\n",
       "      <th>f1-micro</th>\n",
       "      <th>f1-macro</th>\n",
       "      <th>f1-weighted</th>\n",
       "    </tr>\n",
       "  </thead>\n",
       "  <tbody>\n",
       "    <tr>\n",
       "      <th>0</th>\n",
       "      <td>Logistic Regression</td>\n",
       "      <td>0.86250</td>\n",
       "      <td>0.775</td>\n",
       "      <td>0.841727</td>\n",
       "      <td>0.769231</td>\n",
       "      <td>0.775</td>\n",
       "      <td>0.774859</td>\n",
       "      <td>0.775141</td>\n",
       "    </tr>\n",
       "    <tr>\n",
       "      <th>1</th>\n",
       "      <td>Decision Tree</td>\n",
       "      <td>1.00000</td>\n",
       "      <td>0.800</td>\n",
       "      <td>1.000000</td>\n",
       "      <td>0.794872</td>\n",
       "      <td>0.800</td>\n",
       "      <td>0.799875</td>\n",
       "      <td>0.800125</td>\n",
       "    </tr>\n",
       "    <tr>\n",
       "      <th>2</th>\n",
       "      <td>Gaussian NB</td>\n",
       "      <td>0.88125</td>\n",
       "      <td>0.850</td>\n",
       "      <td>0.863309</td>\n",
       "      <td>0.850000</td>\n",
       "      <td>0.850</td>\n",
       "      <td>0.850000</td>\n",
       "      <td>0.850000</td>\n",
       "    </tr>\n",
       "    <tr>\n",
       "      <th>3</th>\n",
       "      <td>Decision tree-tuned</td>\n",
       "      <td>0.93125</td>\n",
       "      <td>0.800</td>\n",
       "      <td>0.920863</td>\n",
       "      <td>0.794872</td>\n",
       "      <td>0.800</td>\n",
       "      <td>0.799875</td>\n",
       "      <td>0.800125</td>\n",
       "    </tr>\n",
       "  </tbody>\n",
       "</table>\n",
       "</div>"
      ],
      "text/plain": [
       "            Model Name  Train Accuracy Score  Test Accuracy Score  \\\n",
       "0  Logistic Regression               0.86250                0.775   \n",
       "1        Decision Tree               1.00000                0.800   \n",
       "2          Gaussian NB               0.88125                0.850   \n",
       "3  Decision tree-tuned               0.93125                0.800   \n",
       "\n",
       "   Train F1 Score  Test F1 Score  f1-micro  f1-macro  f1-weighted  \n",
       "0        0.841727       0.769231     0.775  0.774859     0.775141  \n",
       "1        1.000000       0.794872     0.800  0.799875     0.800125  \n",
       "2        0.863309       0.850000     0.850  0.850000     0.850000  \n",
       "3        0.920863       0.794872     0.800  0.799875     0.800125  "
      ]
     },
     "execution_count": 76,
     "metadata": {},
     "output_type": "execute_result"
    }
   ],
   "source": [
    "dt5=DecisionTreeClassifier(max_depth=5,random_state=10)\n",
    "dt5.fit(xtrain,ytrain)\n",
    "update_score_card(\"Decision tree-tuned\",dt5,xtrain,xtest,ytrain,ytest)\n",
    "\n",
    "# gaussian nb is by far the best model"
   ]
  },
  {
   "cell_type": "code",
   "execution_count": 78,
   "id": "dc6d2580-2452-43d8-a996-a8c4ad218193",
   "metadata": {},
   "outputs": [
    {
     "data": {
      "text/html": [
       "<div>\n",
       "<style scoped>\n",
       "    .dataframe tbody tr th:only-of-type {\n",
       "        vertical-align: middle;\n",
       "    }\n",
       "\n",
       "    .dataframe tbody tr th {\n",
       "        vertical-align: top;\n",
       "    }\n",
       "\n",
       "    .dataframe thead th {\n",
       "        text-align: right;\n",
       "    }\n",
       "</style>\n",
       "<table border=\"1\" class=\"dataframe\">\n",
       "  <thead>\n",
       "    <tr style=\"text-align: right;\">\n",
       "      <th></th>\n",
       "      <th>Model Name</th>\n",
       "      <th>Train Accuracy Score</th>\n",
       "      <th>Test Accuracy Score</th>\n",
       "      <th>Train F1 Score</th>\n",
       "      <th>Test F1 Score</th>\n",
       "      <th>f1-micro</th>\n",
       "      <th>f1-macro</th>\n",
       "      <th>f1-weighted</th>\n",
       "    </tr>\n",
       "  </thead>\n",
       "  <tbody>\n",
       "    <tr>\n",
       "      <th>0</th>\n",
       "      <td>Logistic Regression</td>\n",
       "      <td>0.86250</td>\n",
       "      <td>0.7750</td>\n",
       "      <td>0.841727</td>\n",
       "      <td>0.769231</td>\n",
       "      <td>0.7750</td>\n",
       "      <td>0.774859</td>\n",
       "      <td>0.775141</td>\n",
       "    </tr>\n",
       "    <tr>\n",
       "      <th>1</th>\n",
       "      <td>Decision Tree</td>\n",
       "      <td>1.00000</td>\n",
       "      <td>0.8000</td>\n",
       "      <td>1.000000</td>\n",
       "      <td>0.794872</td>\n",
       "      <td>0.8000</td>\n",
       "      <td>0.799875</td>\n",
       "      <td>0.800125</td>\n",
       "    </tr>\n",
       "    <tr>\n",
       "      <th>2</th>\n",
       "      <td>Gaussian NB</td>\n",
       "      <td>0.88125</td>\n",
       "      <td>0.8500</td>\n",
       "      <td>0.863309</td>\n",
       "      <td>0.850000</td>\n",
       "      <td>0.8500</td>\n",
       "      <td>0.850000</td>\n",
       "      <td>0.850000</td>\n",
       "    </tr>\n",
       "    <tr>\n",
       "      <th>3</th>\n",
       "      <td>Decision tree-tuned</td>\n",
       "      <td>0.93125</td>\n",
       "      <td>0.8000</td>\n",
       "      <td>0.920863</td>\n",
       "      <td>0.794872</td>\n",
       "      <td>0.8000</td>\n",
       "      <td>0.799875</td>\n",
       "      <td>0.800125</td>\n",
       "    </tr>\n",
       "    <tr>\n",
       "      <th>4</th>\n",
       "      <td>Ada boost</td>\n",
       "      <td>0.91875</td>\n",
       "      <td>0.8125</td>\n",
       "      <td>0.908451</td>\n",
       "      <td>0.810127</td>\n",
       "      <td>0.8125</td>\n",
       "      <td>0.812471</td>\n",
       "      <td>0.812588</td>\n",
       "    </tr>\n",
       "  </tbody>\n",
       "</table>\n",
       "</div>"
      ],
      "text/plain": [
       "            Model Name  Train Accuracy Score  Test Accuracy Score  \\\n",
       "0  Logistic Regression               0.86250               0.7750   \n",
       "1        Decision Tree               1.00000               0.8000   \n",
       "2          Gaussian NB               0.88125               0.8500   \n",
       "3  Decision tree-tuned               0.93125               0.8000   \n",
       "4            Ada boost               0.91875               0.8125   \n",
       "\n",
       "   Train F1 Score  Test F1 Score  f1-micro  f1-macro  f1-weighted  \n",
       "0        0.841727       0.769231    0.7750  0.774859     0.775141  \n",
       "1        1.000000       0.794872    0.8000  0.799875     0.800125  \n",
       "2        0.863309       0.850000    0.8500  0.850000     0.850000  \n",
       "3        0.920863       0.794872    0.8000  0.799875     0.800125  \n",
       "4        0.908451       0.810127    0.8125  0.812471     0.812588  "
      ]
     },
     "execution_count": 78,
     "metadata": {},
     "output_type": "execute_result"
    }
   ],
   "source": [
    "from sklearn.ensemble  import AdaBoostClassifier\n",
    "abcl=AdaBoostClassifier()\n",
    "abcl.fit(xtrain,ytrain)\n",
    "update_score_card(\"Ada boost\",abcl,xtrain,xtest,ytrain,ytest)"
   ]
  }
 ],
 "metadata": {
  "kernelspec": {
   "display_name": "Python 3 (ipykernel)",
   "language": "python",
   "name": "python3"
  },
  "language_info": {
   "codemirror_mode": {
    "name": "ipython",
    "version": 3
   },
   "file_extension": ".py",
   "mimetype": "text/x-python",
   "name": "python",
   "nbconvert_exporter": "python",
   "pygments_lexer": "ipython3",
   "version": "3.11.7"
  }
 },
 "nbformat": 4,
 "nbformat_minor": 5
}
